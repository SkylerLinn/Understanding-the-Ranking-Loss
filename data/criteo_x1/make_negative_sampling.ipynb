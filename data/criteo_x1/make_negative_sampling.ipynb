{
 "cells": [
  {
   "cell_type": "code",
   "execution_count": 1,
   "metadata": {},
   "outputs": [],
   "source": [
    "import pandas as pd\n",
    "import numpy as np\n",
    "import h5py\n",
    "from tqdm import tqdm\n",
    "import os"
   ]
  },
  {
   "cell_type": "markdown",
   "metadata": {},
   "source": [
    "# Make Sampling"
   ]
  },
  {
   "cell_type": "code",
   "execution_count": 2,
   "metadata": {},
   "outputs": [],
   "source": [
    "negative_sample_ratio=0.9"
   ]
  },
  {
   "cell_type": "code",
   "execution_count": 3,
   "metadata": {},
   "outputs": [
    {
     "name": "stdout",
     "output_type": "stream",
     "text": [
      "cp ../criteo_x1/test.csv ../criteo_x1_0.9/\n",
      "cp ../criteo_x1/valid.csv ../criteo_x1_0.9/\n"
     ]
    }
   ],
   "source": [
    "from_path = '../criteo_x1'\n",
    "to_path = '../criteo_x1_{}'.format(negative_sample_ratio)\n",
    "if not os.path.exists(to_path):\n",
    "    os.makedirs(to_path)\n",
    "\n",
    "for name in ['test.csv','valid.csv']: \n",
    "    cmd = 'cp {} {}'.format(from_path+'/'+name, to_path+'/')\n",
    "    if not os.path.exists(to_path+'/'+name):\n",
    "        print(cmd)\n",
    "        os.system(cmd)"
   ]
  },
  {
   "cell_type": "code",
   "execution_count": 4,
   "metadata": {},
   "outputs": [
    {
     "data": {
      "text/html": [
       "<div>\n",
       "<style scoped>\n",
       "    .dataframe tbody tr th:only-of-type {\n",
       "        vertical-align: middle;\n",
       "    }\n",
       "\n",
       "    .dataframe tbody tr th {\n",
       "        vertical-align: top;\n",
       "    }\n",
       "\n",
       "    .dataframe thead th {\n",
       "        text-align: right;\n",
       "    }\n",
       "</style>\n",
       "<table border=\"1\" class=\"dataframe\">\n",
       "  <thead>\n",
       "    <tr style=\"text-align: right;\">\n",
       "      <th></th>\n",
       "      <th>label</th>\n",
       "      <th>I1</th>\n",
       "      <th>I2</th>\n",
       "      <th>I3</th>\n",
       "      <th>I4</th>\n",
       "      <th>I5</th>\n",
       "      <th>I6</th>\n",
       "      <th>I7</th>\n",
       "      <th>I8</th>\n",
       "      <th>I9</th>\n",
       "      <th>...</th>\n",
       "      <th>C17</th>\n",
       "      <th>C18</th>\n",
       "      <th>C19</th>\n",
       "      <th>C20</th>\n",
       "      <th>C21</th>\n",
       "      <th>C22</th>\n",
       "      <th>C23</th>\n",
       "      <th>C24</th>\n",
       "      <th>C25</th>\n",
       "      <th>C26</th>\n",
       "    </tr>\n",
       "  </thead>\n",
       "  <tbody>\n",
       "    <tr>\n",
       "      <th>0</th>\n",
       "      <td>0</td>\n",
       "      <td>0.05</td>\n",
       "      <td>0.006633</td>\n",
       "      <td>0.05</td>\n",
       "      <td>0.00</td>\n",
       "      <td>0.021594</td>\n",
       "      <td>0.008</td>\n",
       "      <td>0.15</td>\n",
       "      <td>0.04</td>\n",
       "      <td>0.362</td>\n",
       "      <td>...</td>\n",
       "      <td>1528982</td>\n",
       "      <td>1529013</td>\n",
       "      <td>1533925</td>\n",
       "      <td>1536019</td>\n",
       "      <td>1556876</td>\n",
       "      <td>1934144</td>\n",
       "      <td>1934164</td>\n",
       "      <td>1936312</td>\n",
       "      <td>2022803</td>\n",
       "      <td>2024738</td>\n",
       "    </tr>\n",
       "    <tr>\n",
       "      <th>1</th>\n",
       "      <td>0</td>\n",
       "      <td>0.10</td>\n",
       "      <td>0.004975</td>\n",
       "      <td>0.44</td>\n",
       "      <td>0.02</td>\n",
       "      <td>0.001594</td>\n",
       "      <td>0.016</td>\n",
       "      <td>0.02</td>\n",
       "      <td>0.04</td>\n",
       "      <td>0.008</td>\n",
       "      <td>...</td>\n",
       "      <td>1528983</td>\n",
       "      <td>1529008</td>\n",
       "      <td>1533925</td>\n",
       "      <td>1536020</td>\n",
       "      <td>1536034</td>\n",
       "      <td>1934144</td>\n",
       "      <td>1934164</td>\n",
       "      <td>1934195</td>\n",
       "      <td>2022803</td>\n",
       "      <td>2022906</td>\n",
       "    </tr>\n",
       "    <tr>\n",
       "      <th>2</th>\n",
       "      <td>0</td>\n",
       "      <td>0.10</td>\n",
       "      <td>0.004975</td>\n",
       "      <td>0.01</td>\n",
       "      <td>0.28</td>\n",
       "      <td>0.011984</td>\n",
       "      <td>0.178</td>\n",
       "      <td>0.04</td>\n",
       "      <td>0.04</td>\n",
       "      <td>0.490</td>\n",
       "      <td>...</td>\n",
       "      <td>1528988</td>\n",
       "      <td>1529304</td>\n",
       "      <td>1533924</td>\n",
       "      <td>1536018</td>\n",
       "      <td>1536025</td>\n",
       "      <td>1934145</td>\n",
       "      <td>1934164</td>\n",
       "      <td>1934181</td>\n",
       "      <td>2022801</td>\n",
       "      <td>2022897</td>\n",
       "    </tr>\n",
       "  </tbody>\n",
       "</table>\n",
       "<p>3 rows × 40 columns</p>\n",
       "</div>"
      ],
      "text/plain": [
       "   label    I1        I2    I3    I4        I5     I6    I7    I8     I9  ...  \\\n",
       "0      0  0.05  0.006633  0.05  0.00  0.021594  0.008  0.15  0.04  0.362  ...   \n",
       "1      0  0.10  0.004975  0.44  0.02  0.001594  0.016  0.02  0.04  0.008  ...   \n",
       "2      0  0.10  0.004975  0.01  0.28  0.011984  0.178  0.04  0.04  0.490  ...   \n",
       "\n",
       "       C17      C18      C19      C20      C21      C22      C23      C24  \\\n",
       "0  1528982  1529013  1533925  1536019  1556876  1934144  1934164  1936312   \n",
       "1  1528983  1529008  1533925  1536020  1536034  1934144  1934164  1934195   \n",
       "2  1528988  1529304  1533924  1536018  1536025  1934145  1934164  1934181   \n",
       "\n",
       "       C25      C26  \n",
       "0  2022803  2024738  \n",
       "1  2022803  2022906  \n",
       "2  2022801  2022897  \n",
       "\n",
       "[3 rows x 40 columns]"
      ]
     },
     "execution_count": 4,
     "metadata": {},
     "output_type": "execute_result"
    }
   ],
   "source": [
    "import pickle\n",
    "if not os.path.exists(to_path+'/train_backup.pkl'):\n",
    "    train = pd.read_csv(from_path+'/train.csv')\n",
    "    with open('./train_backup.pkl','wb') as f:\n",
    "        pickle.dump(train,f)\n",
    "else:\n",
    "    with open('./train_backup.pkl','rb') as f:\n",
    "        train = pickle.load(f)\n",
    "train.head(3)"
   ]
  },
  {
   "cell_type": "code",
   "execution_count": 5,
   "metadata": {},
   "outputs": [
    {
     "name": "stdout",
     "output_type": "stream",
     "text": [
      "Negative :24546957->22092261, 0.8999999877785259.\n"
     ]
    }
   ],
   "source": [
    "negative_index = train[train['label']==0].index\n",
    "np.random.seed(42)\n",
    "sampled_negative_index = np.random.choice(a=negative_index, size=int(len(negative_index)*negative_sample_ratio),replace=False)\n",
    "print(\"Negative :{}->{}, {}.\".format(\n",
    "    len(negative_index), len(sampled_negative_index), len(sampled_negative_index)/ len(negative_index),\n",
    "))"
   ]
  },
  {
   "cell_type": "code",
   "execution_count": 6,
   "metadata": {},
   "outputs": [
    {
     "name": "stdout",
     "output_type": "stream",
     "text": [
      "Del train\n"
     ]
    }
   ],
   "source": [
    "positive = train[train['label']==1]\n",
    "sampled_negative = train.iloc[sampled_negative_index]\n",
    "before_len = len(train)\n",
    "del train\n",
    "print(\"Del train\")\n",
    "after = pd.concat([positive,sampled_negative],axis=0).reset_index(drop=True)"
   ]
  },
  {
   "cell_type": "code",
   "execution_count": 7,
   "metadata": {},
   "outputs": [
    {
     "data": {
      "text/html": [
       "<div>\n",
       "<style scoped>\n",
       "    .dataframe tbody tr th:only-of-type {\n",
       "        vertical-align: middle;\n",
       "    }\n",
       "\n",
       "    .dataframe tbody tr th {\n",
       "        vertical-align: top;\n",
       "    }\n",
       "\n",
       "    .dataframe thead th {\n",
       "        text-align: right;\n",
       "    }\n",
       "</style>\n",
       "<table border=\"1\" class=\"dataframe\">\n",
       "  <thead>\n",
       "    <tr style=\"text-align: right;\">\n",
       "      <th></th>\n",
       "      <th>label</th>\n",
       "      <th>I1</th>\n",
       "      <th>I2</th>\n",
       "      <th>I3</th>\n",
       "      <th>I4</th>\n",
       "      <th>I5</th>\n",
       "      <th>I6</th>\n",
       "      <th>I7</th>\n",
       "      <th>I8</th>\n",
       "      <th>I9</th>\n",
       "      <th>...</th>\n",
       "      <th>C17</th>\n",
       "      <th>C18</th>\n",
       "      <th>C19</th>\n",
       "      <th>C20</th>\n",
       "      <th>C21</th>\n",
       "      <th>C22</th>\n",
       "      <th>C23</th>\n",
       "      <th>C24</th>\n",
       "      <th>C25</th>\n",
       "      <th>C26</th>\n",
       "    </tr>\n",
       "  </thead>\n",
       "  <tbody>\n",
       "    <tr>\n",
       "      <th>0</th>\n",
       "      <td>1</td>\n",
       "      <td>0.05</td>\n",
       "      <td>0.011609</td>\n",
       "      <td>0.02</td>\n",
       "      <td>0.00</td>\n",
       "      <td>0.000000</td>\n",
       "      <td>0.000</td>\n",
       "      <td>0.01</td>\n",
       "      <td>0.00</td>\n",
       "      <td>0.000</td>\n",
       "      <td>...</td>\n",
       "      <td>1528982</td>\n",
       "      <td>1529022</td>\n",
       "      <td>1533924</td>\n",
       "      <td>1536018</td>\n",
       "      <td>1536022</td>\n",
       "      <td>1934144</td>\n",
       "      <td>1934163</td>\n",
       "      <td>1934185</td>\n",
       "      <td>2022801</td>\n",
       "      <td>2022897</td>\n",
       "    </tr>\n",
       "    <tr>\n",
       "      <th>1</th>\n",
       "      <td>1</td>\n",
       "      <td>0.05</td>\n",
       "      <td>1.000000</td>\n",
       "      <td>0.00</td>\n",
       "      <td>0.04</td>\n",
       "      <td>0.001641</td>\n",
       "      <td>0.004</td>\n",
       "      <td>0.01</td>\n",
       "      <td>0.04</td>\n",
       "      <td>0.004</td>\n",
       "      <td>...</td>\n",
       "      <td>1528984</td>\n",
       "      <td>1529001</td>\n",
       "      <td>1533925</td>\n",
       "      <td>1536019</td>\n",
       "      <td>1783027</td>\n",
       "      <td>1934144</td>\n",
       "      <td>1934163</td>\n",
       "      <td>1939176</td>\n",
       "      <td>2022802</td>\n",
       "      <td>2022902</td>\n",
       "    </tr>\n",
       "    <tr>\n",
       "      <th>2</th>\n",
       "      <td>1</td>\n",
       "      <td>0.00</td>\n",
       "      <td>0.082919</td>\n",
       "      <td>0.00</td>\n",
       "      <td>0.00</td>\n",
       "      <td>0.099984</td>\n",
       "      <td>0.076</td>\n",
       "      <td>0.19</td>\n",
       "      <td>0.20</td>\n",
       "      <td>0.286</td>\n",
       "      <td>...</td>\n",
       "      <td>1528982</td>\n",
       "      <td>1529114</td>\n",
       "      <td>1533924</td>\n",
       "      <td>1536018</td>\n",
       "      <td>1536067</td>\n",
       "      <td>1934144</td>\n",
       "      <td>1934163</td>\n",
       "      <td>1934233</td>\n",
       "      <td>2022801</td>\n",
       "      <td>2022897</td>\n",
       "    </tr>\n",
       "  </tbody>\n",
       "</table>\n",
       "<p>3 rows × 40 columns</p>\n",
       "</div>"
      ],
      "text/plain": [
       "   label    I1        I2    I3    I4        I5     I6    I7    I8     I9  ...  \\\n",
       "0      1  0.05  0.011609  0.02  0.00  0.000000  0.000  0.01  0.00  0.000  ...   \n",
       "1      1  0.05  1.000000  0.00  0.04  0.001641  0.004  0.01  0.04  0.004  ...   \n",
       "2      1  0.00  0.082919  0.00  0.00  0.099984  0.076  0.19  0.20  0.286  ...   \n",
       "\n",
       "       C17      C18      C19      C20      C21      C22      C23      C24  \\\n",
       "0  1528982  1529022  1533924  1536018  1536022  1934144  1934163  1934185   \n",
       "1  1528984  1529001  1533925  1536019  1783027  1934144  1934163  1939176   \n",
       "2  1528982  1529114  1533924  1536018  1536067  1934144  1934163  1934233   \n",
       "\n",
       "       C25      C26  \n",
       "0  2022801  2022897  \n",
       "1  2022802  2022902  \n",
       "2  2022801  2022897  \n",
       "\n",
       "[3 rows x 40 columns]"
      ]
     },
     "execution_count": 7,
     "metadata": {},
     "output_type": "execute_result"
    }
   ],
   "source": [
    "after.head(3)"
   ]
  },
  {
   "cell_type": "code",
   "execution_count": 8,
   "metadata": {},
   "outputs": [
    {
     "name": "stdout",
     "output_type": "stream",
     "text": [
      "Before 33003326, After 30548630, 0.9256227690506103.\n"
     ]
    }
   ],
   "source": [
    "print(\"Before {}, After {}, {}.\".format(before_len, len(after), len(after)/before_len))"
   ]
  },
  {
   "cell_type": "code",
   "execution_count": 9,
   "metadata": {},
   "outputs": [
    {
     "name": "stdout",
     "output_type": "stream",
     "text": [
      "Saved: ../criteo_x1_0.9/train.csv\n"
     ]
    }
   ],
   "source": [
    "csv_path = to_path+'/train.csv'\n",
    "\n",
    "# with pd.HDFStore(h5_file_path, mode='w') as store:\n",
    "#     for column_name, column_data in tqdm(after.items()):\n",
    "#         key = column_name\n",
    "#         store[key] = column_data\n",
    "after.to_csv(csv_path)\n",
    "print(\"Saved: {}\".format(csv_path))"
   ]
  },
  {
   "cell_type": "code",
   "execution_count": 10,
   "metadata": {},
   "outputs": [
    {
     "data": {
      "text/plain": [
       "'\\n0.1\\nNegative :24546957->2454695, 0.09999997148322702.\\nBefore 33003326, After 10911064, 0.330604982055445.\\n\\n0.2\\nNegative :24546957->4909391, 0.19999998370470115.\\nBefore 33003326, After 13365760, 0.4049822130048347.\\n\\n0.3\\nNegative :24546957->7364087, 0.29999999592617527.\\nBefore 33003326, After 15820456, 0.4793594439542245.\\n\\n0.4\\nNegative :24546957->9818782, 0.3999999674094023.\\nBefore 33003326, After 18275151, 0.5537366446036378.\\n\\n0.5\\nNegative :24546957->12273478, 0.49999997963087645.\\nBefore 33003326, After 20729847, 0.6281138755530276.\\n\\n0.6\\nNegative :24546957->14728174, 0.5999999918523505\\nBefore 33003326, After 23184543, 0.7024911065024174.\\n\\n0.7\\nNegative :24546957->17182869, 0.6999999633355776.\\nBefore 33003326, After 25639238, 0.7768683071518308.\\n\\n0.8\\nNegative :24546957->19637565, 0.7999999755570517.\\nBefore 33003326, After 28093934, 0.8512455381012205.\\n\\n0.9\\nNegative :24546957->22092261, 0.8999999877785259.\\n'"
      ]
     },
     "execution_count": 10,
     "metadata": {},
     "output_type": "execute_result"
    },
    {
     "ename": "",
     "evalue": "",
     "output_type": "error",
     "traceback": [
      "\u001b[1;31m在当前单元格或上一个单元格中执行代码时 Kernel 崩溃。请查看单元格中的代码，以确定故障的可能原因。有关详细信息，请单击 <a href='https://aka.ms/vscodeJupyterKernelCrash'>此处</a>。有关更多详细信息，请查看 Jupyter <a href='command:jupyter.viewOutput'>log</a>。"
     ]
    }
   ],
   "source": [
    "\"\"\"\n",
    "0.1\n",
    "Negative :24546957->2454695, 0.09999997148322702.\n",
    "Before 33003326, After 10911064, 0.330604982055445.\n",
    "\n",
    "0.2\n",
    "Negative :24546957->4909391, 0.19999998370470115.\n",
    "Before 33003326, After 13365760, 0.4049822130048347.\n",
    "\n",
    "0.3\n",
    "Negative :24546957->7364087, 0.29999999592617527.\n",
    "Before 33003326, After 15820456, 0.4793594439542245.\n",
    "\n",
    "0.4\n",
    "Negative :24546957->9818782, 0.3999999674094023.\n",
    "Before 33003326, After 18275151, 0.5537366446036378.\n",
    "\n",
    "0.5\n",
    "Negative :24546957->12273478, 0.49999997963087645.\n",
    "Before 33003326, After 20729847, 0.6281138755530276.\n",
    "\n",
    "0.6\n",
    "Negative :24546957->14728174, 0.5999999918523505\n",
    "Before 33003326, After 23184543, 0.7024911065024174.\n",
    "\n",
    "0.7\n",
    "Negative :24546957->17182869, 0.6999999633355776.\n",
    "Before 33003326, After 25639238, 0.7768683071518308.\n",
    "\n",
    "0.8\n",
    "Negative :24546957->19637565, 0.7999999755570517.\n",
    "Before 33003326, After 28093934, 0.8512455381012205.\n",
    "\n",
    "0.9\n",
    "Negative :24546957->22092261, 0.8999999877785259.\n",
    "Before 33003326, After 30548630, 0.9256227690506103.\n",
    "\"\"\""
   ]
  }
 ],
 "metadata": {
  "kernelspec": {
   "display_name": "text2emb",
   "language": "python",
   "name": "python3"
  },
  "language_info": {
   "codemirror_mode": {
    "name": "ipython",
    "version": 3
   },
   "file_extension": ".py",
   "mimetype": "text/x-python",
   "name": "python",
   "nbconvert_exporter": "python",
   "pygments_lexer": "ipython3",
   "version": "3.9.16"
  },
  "orig_nbformat": 4
 },
 "nbformat": 4,
 "nbformat_minor": 2
}
