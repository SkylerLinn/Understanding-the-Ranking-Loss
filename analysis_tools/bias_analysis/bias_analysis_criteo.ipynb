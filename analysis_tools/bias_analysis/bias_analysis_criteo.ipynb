{
 "cells": [
  {
   "cell_type": "code",
   "execution_count": 2,
   "metadata": {},
   "outputs": [
    {
     "data": {
      "text/plain": [
       "0.25622778140603164"
      ]
     },
     "execution_count": 2,
     "metadata": {},
     "output_type": "execute_result"
    }
   ],
   "source": [
    "import h5py \n",
    "import pandas as pd\n",
    "import numpy as np\n",
    "from matplotlib import pyplot as plt\n",
    "from tqdm import tqdm\n",
    "\n",
    "def get_label(path):\n",
    "    f = h5py.File(path,'r')\n",
    "    labels = f['label'][:].copy()\n",
    "    f.close()\n",
    "    return labels\n",
    "\n",
    "train_labels = get_label('../../../../data/criteo_x1/train.h5')\n",
    "valid_labels = get_label('../../../../data/criteo_x1/valid.h5')\n",
    "test_labels = get_label('../../../../data/criteo_x1/test.h5')\n",
    "\n",
    "train_range = range(len(train_labels))\n",
    "valid_range = range(len(train_labels), len(train_labels)+len(valid_labels))\n",
    "test_range = range(len(train_labels)+len(valid_labels), len(train_labels)+len(valid_labels)+len(test_labels))\n",
    "\n",
    "train_labels.mean()"
   ]
  },
  {
   "cell_type": "code",
   "execution_count": 3,
   "metadata": {},
   "outputs": [
    {
     "data": {
      "text/plain": [
       "['bce', 'jrc', 'combined-pair']"
      ]
     },
     "execution_count": 3,
     "metadata": {},
     "output_type": "execute_result"
    }
   ],
   "source": [
    "base_path = '../../submission/submission_{}.csv'\n",
    "model_names=[\n",
    "    ('DCNv2_criteo_x1_posw0.1','bce'),\n",
    "    ('DCNv2_criteo_x1_posw0.1_jrc_alpha0.4','jrc'),\n",
    "    ('DCNv2_criteo_x1_posw0.1_combinedpair_alpha0.7','combined-pair'), \n",
    "    ]\n",
    "all_labels = np.concatenate([train_labels, valid_labels, test_labels])\n",
    "[_[1]for _ in model_names]"
   ]
  },
  {
   "cell_type": "code",
   "execution_count": 4,
   "metadata": {},
   "outputs": [],
   "source": [
    "def gen_df(model_names, group_setting):\n",
    "    df = pd.DataFrame()\n",
    "    df['label'] = all_labels\n",
    "    for path, name in model_names:\n",
    "        print(path,name)\n",
    "        df[name] = pd.read_csv(base_path.format(path),usecols=['infer'])['infer']\n",
    "        if group_setting is not None:\n",
    "            if isinstance(group_setting,dict):\n",
    "                df[name+'_group'] = pd.cut(df[name],bins=group_setting[name],include_lowest=True)\n",
    "            else:\n",
    "                df[name+'_group'] = pd.cut(df[name],bins=group_setting,include_lowest=True)\n",
    "        \n",
    "    return df\n",
    "\n",
    "def get_three_ds(curr_df):\n",
    "    curr_train = curr_df.iloc[train_range]\n",
    "    curr_valid = curr_df.iloc[valid_range]\n",
    "    curr_test = curr_df.iloc[test_range]\n",
    "    return curr_train, curr_valid, curr_test"
   ]
  },
  {
   "cell_type": "code",
   "execution_count": 5,
   "metadata": {},
   "outputs": [
    {
     "name": "stdout",
     "output_type": "stream",
     "text": [
      "DCNv2_criteo_x1_posw0.1 bce\n"
     ]
    }
   ],
   "source": [
    "df = gen_df([('DCNv2_criteo_x1_posw0.1','bce')], None)"
   ]
  },
  {
   "cell_type": "code",
   "execution_count": 6,
   "metadata": {},
   "outputs": [],
   "source": [
    "tmp_train,_,tmp_test = get_three_ds(df)\n",
    "nums=45\n",
    "tar = tmp_test\n",
    "def get_threshold(col, nums):\n",
    "    splits = np.array_split(col.sort_values(),nums)\n",
    "    threshold = [min(_) for _ in splits] + [1]\n",
    "    threshold[0] = 0\n",
    "    return threshold"
   ]
  },
  {
   "cell_type": "code",
   "execution_count": 7,
   "metadata": {},
   "outputs": [
    {
     "name": "stderr",
     "output_type": "stream",
     "text": [
      "/home/amax/.conda/envs/text2emb/lib/python3.9/site-packages/numpy/core/fromnumeric.py:57: FutureWarning: 'Series.swapaxes' is deprecated and will be removed in a future version. Please use 'Series.transpose' instead.\n",
      "  return bound(*args, **kwds)\n"
     ]
    },
    {
     "name": "stdout",
     "output_type": "stream",
     "text": [
      "[0, 0.0009973951382562, 0.0016614120686426, 0.002283768961206, 0.0028977850452065, 0.0035189860500395, 0.004158261232078, 0.0048272609710693, 0.0055306935682892, 0.0062718009576201, 0.0070510837249457, 0.0078733237460255, 0.0087360842153429, 0.009656298905611, 0.0106274830177426, 0.0116577288135886, 0.0127567015588283, 0.0139197399839758, 0.0151674384251236, 0.0164969079196453, 0.0179174281656742, 0.0194563381373882, 0.0211090072989463, 0.0228971261531114, 0.0248441249132156, 0.0269581563770771, 0.0292551647871732, 0.0317719168961048, 0.0345537737011909, 0.0376291722059249, 0.0410633459687233, 0.0448992624878883, 0.0492228046059608, 0.0541107803583145, 0.0597317926585674, 0.0662734508514404, 0.0739296302199363, 0.0831404030323028, 0.0943229645490646, 0.1082492768764495, 0.1262256354093551, 0.150552824139595, 0.1854946911334991, 0.2416867613792419, 0.3558296859264374, 1]\n"
     ]
    }
   ],
   "source": [
    "base_col = tar['bce']\n",
    "threshold = get_threshold(base_col, nums)\n",
    "print(threshold)"
   ]
  },
  {
   "cell_type": "code",
   "execution_count": 8,
   "metadata": {},
   "outputs": [],
   "source": [
    "def plot_baskets_paper(xs, ys, names, ls=None, color=None, xlabel='pctr bins', ylabel='bias', ann=True, title='My Plot'):\n",
    "    for i, (y, name) in enumerate(zip(ys, names)):\n",
    "        if ls is None or color is None:\n",
    "            plt.plot(xs[i], y, label=name)\n",
    "        else:\n",
    "            plt.plot(xs[i], y, label=name, ls=ls[i], color=color[i])\n",
    "        if ann:\n",
    "            for j in range(len(xs[i])):\n",
    "                plt.annotate(\n",
    "                    str(round(y[j],3)), (xs[i][j], y[j]),\n",
    "                    textcoords=\"offset points\",\n",
    "                    xytext=(0, 7), ha='center')\n",
    "\n",
    "    plt.title(title)  # 添加标题\n",
    "    plt.xlabel(xlabel)\n",
    "    plt.ylabel(ylabel)\n",
    "    plt.axhline(0, ls='--')\n",
    "    plt.tight_layout()"
   ]
  },
  {
   "cell_type": "code",
   "execution_count": 9,
   "metadata": {},
   "outputs": [],
   "source": [
    "twitter_color = '#CAB80A'\n",
    "base_color = '#221715'\n",
    "jrc_color='#660A74'"
   ]
  },
  {
   "cell_type": "code",
   "execution_count": 10,
   "metadata": {},
   "outputs": [
    {
     "name": "stdout",
     "output_type": "stream",
     "text": [
      "DCNv2_criteo_x1_posw0.1 bce\n",
      "DCNv2_criteo_x1_posw0.1_jrc_alpha0.4 jrc\n",
      "DCNv2_criteo_x1_posw0.1_combinedpair_alpha0.7 combined-pair\n"
     ]
    }
   ],
   "source": [
    "bdf = gen_df(model_names, threshold)\n",
    "bdf_train,_, bdf_test = get_three_ds(bdf)"
   ]
  },
  {
   "cell_type": "code",
   "execution_count": 11,
   "metadata": {},
   "outputs": [],
   "source": [
    "def cal_bias(y_pred, y):\n",
    "    y_pred_arr = np.array(y_pred).reshape(-1,)\n",
    "    y_arr = np.array(y).reshape(-1,)\n",
    "    \n",
    "    return np.sum(y_pred_arr-y_arr)/np.sum(y_arr)\n",
    "\n",
    "def cal_wbias(y_pred, y, w_pos):\n",
    "    y_pred_arr = np.array(y_pred).reshape(-1,)\n",
    "    y_arr = np.array(y).reshape(-1,)\n",
    "    turt_w = np.where(y==1, w_pos, 1).reshape(-1)\n",
    "    return np.sum(\n",
    "        np.dot((y_pred_arr-y_arr),turt_w))/np.sum(np.dot(y_arr,turt_w))"
   ]
  },
  {
   "cell_type": "code",
   "execution_count": 12,
   "metadata": {},
   "outputs": [
    {
     "data": {
      "text/plain": [
       "[(-0.001, 0.000997], (0.000997, 0.00166], (0.00166, 0.00228], (0.00228, 0.0029], (0.0029, 0.00352], ..., (0.126, 0.151], (0.151, 0.185], (0.185, 0.242], (0.242, 0.356], (0.356, 1.0]]\n",
       "Length: 45\n",
       "Categories (45, interval[float64, right]): [(-0.001, 0.000997] < (0.000997, 0.00166] < (0.00166, 0.00228] < (0.00228, 0.0029] ... (0.151, 0.185] < (0.185, 0.242] < (0.242, 0.356] < (0.356, 1.0]]"
      ]
     },
     "execution_count": 12,
     "metadata": {},
     "output_type": "execute_result"
    }
   ],
   "source": [
    "tar = bdf_test\n",
    "intvs = tar['bce_group'].drop_duplicates().sort_values().values\n",
    "intvs"
   ]
  },
  {
   "cell_type": "code",
   "execution_count": 13,
   "metadata": {},
   "outputs": [
    {
     "name": "stderr",
     "output_type": "stream",
     "text": [
      "  0%|          | 0/2 [00:00<?, ?it/s]"
     ]
    },
    {
     "name": "stderr",
     "output_type": "stream",
     "text": [
      "100%|██████████| 2/2 [00:04<00:00,  2.28s/it]\n"
     ]
    }
   ],
   "source": [
    "results = []\n",
    "names=['bce','combined-pair']\n",
    "for name in tqdm(names):\n",
    "    curr_res= []\n",
    "    tmp_df = tar[['label',name,'bce_group']]\n",
    "    for x in intvs:\n",
    "        group_tmp_df = tmp_df[tmp_df['bce_group']==x]\n",
    "        assert len(group_tmp_df)!=0\n",
    "        curr_res.append(\n",
    "            cal_wbias(y_pred=group_tmp_df[name],y=group_tmp_df['label'],w_pos=0.1))\n",
    "    results.append(curr_res)"
   ]
  },
  {
   "cell_type": "code",
   "execution_count": 14,
   "metadata": {},
   "outputs": [
    {
     "data": {
      "text/plain": [
       "(2, 45)"
      ]
     },
     "execution_count": 14,
     "metadata": {},
     "output_type": "execute_result"
    }
   ],
   "source": [
    "np.array(results).shape"
   ]
  },
  {
   "cell_type": "code",
   "execution_count": 20,
   "metadata": {},
   "outputs": [
    {
     "data": {
      "image/png": "[encoded data removed]",
      "text/plain": [
       "<Figure size 400x260 with 1 Axes>"
      ]
     },
     "metadata": {},
     "output_type": "display_data"
    }
   ],
   "source": [
    "twitter_color = '#D9383A'\n",
    "base_color = '#5F98D2'\n",
    "jrc_color='#96C37D'\n",
    "\n",
    "fig,ax=plt.subplots(figsize=(4,2.6))\n",
    "plot_baskets_paper(\n",
    "    [range(len(np.array(intvs)))]*2,\n",
    "    results,\n",
    "    ['BCE','Combined-Pair'],\n",
    "    xlabel='pCTR Busket Index',\n",
    "    ylabel='Bias',\n",
    "    title='Bias',\n",
    "    ann=False,\n",
    "    color=[base_color,twitter_color],\n",
    "    ls=['-','-']\n",
    ")\n",
    "plt.ylim(-0.2,0.06)\n",
    "plt.fill_between(range(len(np.array(intvs))), 0,results[1], color=twitter_color, alpha=0.2)\n",
    "plt.title('')\n",
    "plt.legend(loc='lower right',frameon=False)\n",
    "ax.spines['top'].set_visible(False)\n",
    "ax.spines['right'].set_visible(False)\n",
    "plt.savefig('../../../../figure/bias.pdf',dpi=400,bbox_inches='tight')"
   ]
  },
  {
   "cell_type": "code",
   "execution_count": 19,
   "metadata": {},
   "outputs": [
    {
     "data": {
      "image/png": "[encoded data removed]",
      "text/plain": [
       "<Figure size 400x230 with 1 Axes>"
      ]
     },
     "metadata": {},
     "output_type": "display_data"
    }
   ],
   "source": [
    "import matplotlib.pyplot as plt\n",
    "import numpy as np\n",
    "twitter_color = '#D9383A'\n",
    "base_color = '#5F98D2'\n",
    "jrc_color='#96C37D'\n",
    "\n",
    "online_bias = pd.read_csv('../tmp_res/online_bias.csv')\n",
    "x = online_bias['pCTR Group']\n",
    "A = online_bias['Control Group']\n",
    "B = online_bias['Experimental Group']\n",
    "\n",
    "# 计算两条曲线的差距\n",
    "diff = B - 0\n",
    "fig,ax=plt.subplots(figsize=(4,2.3))\n",
    "# 绘制曲线和阴影\n",
    "plt.plot(x, A, label='BCE',color=base_color)\n",
    "plt.plot(x, B, label='Combined-Pair',color=twitter_color)\n",
    "plt.fill_between(x, 0,B, color=twitter_color, alpha=0.2)\n",
    "\n",
    "plt.axhline(0,ls='--',color='k')\n",
    "plt.legend(frameon=False)\n",
    "# plt.xticks(range(len(A)-5))\n",
    "# plt.title('Difference between A and B')\n",
    "xlabel='pCTR Busket Index'\n",
    "ylabel='Bias'\n",
    "# ax.spines['top'].set_visible(False)\n",
    "# ax.spines['right'].set_visible(False)\n",
    "ax.spines['top'].set_visible(False)\n",
    "ax.spines['right'].set_visible(False)\n",
    "plt.xlabel(xlabel)\n",
    "plt.ylabel(ylabel)\n",
    "plt.ylim(-0.2,0.06)\n",
    "plt.savefig('../../../../figure/online_bias.pdf',dpi=400,bbox_inches='tight')\n",
    "plt.show()"
   ]
  }
 ],
 "metadata": {
  "kernelspec": {
   "display_name": "Python 3 (ipykernel)",
   "language": "python",
   "name": "python3"
  },
  "language_info": {
   "codemirror_mode": {
    "name": "ipython",
    "version": 3
   },
   "file_extension": ".py",
   "mimetype": "text/x-python",
   "name": "python",
   "nbconvert_exporter": "python",
   "pygments_lexer": "ipython3",
   "version": "3.9.16"
  },
  "orig_nbformat": 4
 },
 "nbformat": 4,
 "nbformat_minor": 2
}
